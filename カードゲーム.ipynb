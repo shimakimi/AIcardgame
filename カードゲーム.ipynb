{
 "cells": [
  {
   "cell_type": "code",
   "execution_count": 3,
   "metadata": {},
   "outputs": [],
   "source": [
    "import rlcard\n",
    "from rlcard.agents import RandomAgent"
   ]
  },
  {
   "cell_type": "code",
   "execution_count": 4,
   "metadata": {},
   "outputs": [],
   "source": [
    "env = rlcard.make('leduc-holdem')"
   ]
  },
  {
   "cell_type": "code",
   "execution_count": 5,
   "metadata": {},
   "outputs": [
    {
     "name": "stdout",
     "output_type": "stream",
     "text": [
      "Number of actions:  4\n",
      "Number of players:  2\n",
      "Shape of state:  [[36], [36]]\n",
      "Shape of action:  [None, None]\n"
     ]
    }
   ],
   "source": [
    "print(\"Number of actions: \", env.num_actions)\n",
    "print(\"Number of players: \", env.num_players)\n",
    "print(\"Shape of state: \", env.state_shape)\n",
    "print(\"Shape of action: \", env.action_shape)"
   ]
  },
  {
   "cell_type": "code",
   "execution_count": 6,
   "metadata": {},
   "outputs": [
    {
     "name": "stdout",
     "output_type": "stream",
     "text": [
      "Number of actions:  27472\n",
      "Number of players:  3\n",
      "Shape of state:  [[790], [901], [901]]\n",
      "Shape of action:  [[54], [54], [54]]\n"
     ]
    }
   ],
   "source": [
    "env_doudizhu = rlcard.make('doudizhu')\n",
    "print(\"Number of actions: \", env_doudizhu.num_actions)\n",
    "print(\"Number of players: \", env_doudizhu.num_players)\n",
    "print(\"Shape of state: \", env_doudizhu.state_shape)\n",
    "print(\"Shape of action: \", env_doudizhu.action_shape)"
   ]
  },
  {
   "cell_type": "code",
   "execution_count": 7,
   "metadata": {},
   "outputs": [],
   "source": [
    "agent = RandomAgent(num_actions=env.num_actions)\n",
    "env.set_agents([agent for _ in range(env.num_players)])"
   ]
  },
  {
   "cell_type": "code",
   "execution_count": 8,
   "metadata": {},
   "outputs": [],
   "source": [
    "trajectories, payoffs = env.run(is_training=False)"
   ]
  },
  {
   "cell_type": "code",
   "execution_count": 12,
   "metadata": {},
   "outputs": [
    {
     "name": "stdout",
     "output_type": "stream",
     "text": [
      "[[{'legal_actions': OrderedDict({0: None, 1: None, 2: None}), 'obs': array([0., 1., 0., 0., 0., 0., 0., 1., 0., 0., 0., 0., 0., 0., 0., 0., 0.,\n",
      "       0., 0., 0., 0., 0., 0., 1., 0., 0., 0., 0., 0., 0., 0., 0., 0., 0.,\n",
      "       0., 0.]), 'raw_obs': {'hand': 'HQ', 'public_card': None, 'all_chips': [1, 2], 'my_chips': 1, 'legal_actions': ['call', 'raise', 'fold'], 'current_player': 0}, 'raw_legal_actions': ['call', 'raise', 'fold'], 'action_record': [(0, 'fold')]}, 2, {'legal_actions': OrderedDict({1: None, 2: None, 3: None}), 'obs': array([0., 1., 0., 0., 0., 0., 0., 1., 0., 0., 0., 0., 0., 0., 0., 0., 0.,\n",
      "       0., 0., 0., 0., 0., 0., 1., 0., 0., 0., 0., 0., 0., 0., 0., 0., 0.,\n",
      "       0., 0.]), 'raw_obs': {'hand': 'HQ', 'public_card': None, 'all_chips': [1, 2], 'my_chips': 1, 'legal_actions': ['raise', 'fold', 'check'], 'current_player': 1}, 'raw_legal_actions': ['raise', 'fold', 'check'], 'action_record': [(0, 'fold')]}], [{'legal_actions': OrderedDict({1: None, 2: None, 3: None}), 'obs': array([0., 1., 0., 0., 0., 0., 0., 0., 1., 0., 0., 0., 0., 0., 0., 0., 0.,\n",
      "       0., 0., 0., 0., 0., 1., 0., 0., 0., 0., 0., 0., 0., 0., 0., 0., 0.,\n",
      "       0., 0.]), 'raw_obs': {'hand': 'SQ', 'public_card': None, 'all_chips': [1, 2], 'my_chips': 2, 'legal_actions': ['raise', 'fold', 'check'], 'current_player': 1}, 'raw_legal_actions': ['raise', 'fold', 'check'], 'action_record': [(0, 'fold')]}]]\n"
     ]
    }
   ],
   "source": [
    "print(trajectories)"
   ]
  }
 ],
 "metadata": {
  "kernelspec": {
   "display_name": "RLCard",
   "language": "python",
   "name": "python3"
  },
  "language_info": {
   "codemirror_mode": {
    "name": "ipython",
    "version": 3
   },
   "file_extension": ".py",
   "mimetype": "text/x-python",
   "name": "python",
   "nbconvert_exporter": "python",
   "pygments_lexer": "ipython3",
   "version": "3.12.3"
  }
 },
 "nbformat": 4,
 "nbformat_minor": 2
}
